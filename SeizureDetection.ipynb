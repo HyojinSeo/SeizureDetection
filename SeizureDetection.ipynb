{
 "cells": [
  {
   "cell_type": "markdown",
   "id": "09738ef3-c8f3-4606-b9b0-eb2108166f6e",
   "metadata": {},
   "source": [
    "# Seizure Detection Using LFP and AUX Data: Feature Extraction, Windowing, and Modeling"
   ]
  },
  {
   "cell_type": "markdown",
   "id": "99ade87d-4e1f-47a8-ad51-435889f6ccc1",
   "metadata": {},
   "source": [
    "## Initial Setup"
   ]
  },
  {
   "cell_type": "markdown",
   "id": "31aa5d5d-c630-4bfd-800c-7b4353ed065d",
   "metadata": {
    "jp-MarkdownHeadingCollapsed": true
   },
   "source": [
    "### Import Libaries"
   ]
  },
  {
   "cell_type": "code",
   "execution_count": 1,
   "id": "34b9db6d-5a05-4671-a46a-cffe9a00777e",
   "metadata": {},
   "outputs": [],
   "source": [
    "import pandas as pd\n",
    "import numpy as np\n",
    "from scipy.signal import welch, get_window\n",
    "import h5py"
   ]
  },
  {
   "cell_type": "markdown",
   "id": "f48b63fb-3f98-41fd-aaec-2023601bfedf",
   "metadata": {
    "jp-MarkdownHeadingCollapsed": true
   },
   "source": [
    "### Load EEG Data"
   ]
  },
  {
   "cell_type": "code",
   "execution_count": 2,
   "id": "2abf7d4a-73e1-4bdb-beb2-d309e1883046",
   "metadata": {},
   "outputs": [
    {
     "name": "stdout",
     "output_type": "stream",
     "text": [
      "LFP data shape: (32, 7214080)\n"
     ]
    }
   ],
   "source": [
    "# Path to the .mat file\n",
    "mat_file_path = '/Users/hyojin/Desktop/Dr.Kim/2000Hz/POST_KA_B_F1_2024-10-03_13-06-07_2000Hz.mat'\n",
    "\n",
    "# Load .mat file using h5py for MATLAB v7.3 format\n",
    "with h5py.File(mat_file_path, 'r') as mat_file:\n",
    "    eeg_data = np.array(mat_file['eegData']).T  # Transpose to get shape (channels, time)\n",
    "    print(f\"LFP data shape: {eeg_data.shape}\")"
   ]
  },
  {
   "cell_type": "markdown",
   "id": "ef6d1f74-969a-48d3-b081-96d2dd72b5dc",
   "metadata": {
    "jp-MarkdownHeadingCollapsed": true
   },
   "source": [
    "### Set Parameters"
   ]
  },
  {
   "cell_type": "code",
   "execution_count": 3,
   "id": "90ba1c3d-4342-4872-a2e3-2b357c605115",
   "metadata": {},
   "outputs": [],
   "source": [
    "# Sampling frequency\n",
    "fs = 2000  # Brainstorm sampling rate in Hz\n",
    "\n",
    "# Define frequency bands (Brainstorm custom bands)\n",
    "bands = {\n",
    "    'delta': (1, 4),\n",
    "    'theta': (4, 8),\n",
    "    'alpha': (8, 13),\n",
    "    'beta': (13, 30),\n",
    "    'slowgamma': (30, 50),\n",
    "    'fastgamma': (50, 100)\n",
    "}\n",
    "\n",
    "# Define PSD computation parameters\n",
    "window_length = 2 * fs  # 2-second window\n",
    "noverlap = window_length // 2  # 50% overlap\n",
    "window = get_window('hamming', window_length)  # Hamming window\n"
   ]
  },
  {
   "cell_type": "markdown",
   "id": "e10ab197-e315-4222-aad5-d5ac2f25f62b",
   "metadata": {},
   "source": [
    "## PSD Computation for All Channels"
   ]
  },
  {
   "cell_type": "markdown",
   "id": "480bef36-5893-428d-99ad-867a3a68c94b",
   "metadata": {},
   "source": [
    "### Initialize Storage for PSD Results"
   ]
  },
  {
   "cell_type": "code",
   "execution_count": 4,
   "id": "85949733-17ec-40f8-89f7-75f2d6834a32",
   "metadata": {},
   "outputs": [],
   "source": [
    "# Initialize dictionary to store band PSD values for all channels\n",
    "all_band_psd = {band: [] for band in bands}"
   ]
  },
  {
   "cell_type": "markdown",
   "id": "42821853-12e6-43c6-bdb8-668db5a08fdb",
   "metadata": {},
   "source": [
    "### PSD by Channels"
   ]
  },
  {
   "cell_type": "code",
   "execution_count": 5,
   "id": "1b939407-ba04-46aa-8c3a-0d080dbaef6a",
   "metadata": {},
   "outputs": [
    {
     "name": "stdout",
     "output_type": "stream",
     "text": [
      "Processing channel 1/32...\n",
      "Processing channel 2/32...\n",
      "Processing channel 3/32...\n",
      "Processing channel 4/32...\n",
      "Processing channel 5/32...\n",
      "Processing channel 6/32...\n",
      "Processing channel 7/32...\n",
      "Processing channel 8/32...\n",
      "Processing channel 9/32...\n",
      "Processing channel 10/32...\n",
      "Processing channel 11/32...\n",
      "Processing channel 12/32...\n",
      "Processing channel 13/32...\n",
      "Processing channel 14/32...\n",
      "Processing channel 15/32...\n",
      "Processing channel 16/32...\n",
      "Processing channel 17/32...\n",
      "Processing channel 18/32...\n",
      "Processing channel 19/32...\n",
      "Processing channel 20/32...\n",
      "Processing channel 21/32...\n",
      "Processing channel 22/32...\n",
      "Processing channel 23/32...\n",
      "Processing channel 24/32...\n",
      "Processing channel 25/32...\n",
      "Processing channel 26/32...\n",
      "Processing channel 27/32...\n",
      "Processing channel 28/32...\n",
      "Processing channel 29/32...\n",
      "Processing channel 30/32...\n",
      "Processing channel 31/32...\n",
      "Processing channel 32/32...\n"
     ]
    }
   ],
   "source": [
    "# Process each channel\n",
    "for channel_idx, channel_data in enumerate(eeg_data):\n",
    "    print(f\"Processing channel {channel_idx + 1}/{eeg_data.shape[0]}...\")\n",
    "\n",
    "    # Calculate PSD for the channel using Welch's method\n",
    "    f, psd = welch(channel_data, fs, window=window, nperseg=window_length, noverlap=noverlap, scaling='density')\n",
    "\n",
    "    # Convert PSD to V²/Hz\n",
    "    psd_in_v2 = psd / 1e12  # Convert from μV²/Hz to V²/Hz\n",
    "\n",
    "    # Calculate mean PSD values for each frequency band\n",
    "    for band_name, (f_low, f_high) in bands.items():\n",
    "        band_indices = (f >= f_low) & (f <= f_high)\n",
    "        band_mean_psd = np.mean(psd_in_v2[band_indices])  # Mean power in the band\n",
    "        all_band_psd[band_name].append(band_mean_psd)\n"
   ]
  },
  {
   "cell_type": "markdown",
   "id": "3b97176b-d4f6-4d6b-80a8-112592088a3e",
   "metadata": {},
   "source": [
    "### Create and Save Results DataFrame"
   ]
  },
  {
   "cell_type": "code",
   "execution_count": 6,
   "id": "71333516-0ad1-4d3c-abd2-66f0d142aa42",
   "metadata": {},
   "outputs": [
    {
     "name": "stdout",
     "output_type": "stream",
     "text": [
      "\n",
      "PSD DataFrame (in V²/Hz):\n",
      "                   delta         theta         alpha          beta  \\\n",
      "Channel 1   8.053666e-09  3.453589e-09  1.310373e-09  3.864253e-10   \n",
      "Channel 2   8.889110e-09  3.427332e-09  1.253667e-09  3.726808e-10   \n",
      "Channel 3   9.147446e-09  3.401054e-09  1.024884e-09  2.980524e-10   \n",
      "Channel 4   9.244176e-09  3.215013e-09  8.250956e-10  2.850025e-10   \n",
      "Channel 5   1.126136e-08  3.508617e-09  7.841206e-10  3.005138e-10   \n",
      "Channel 6   1.278625e-08  3.744832e-09  7.824130e-10  2.904076e-10   \n",
      "Channel 7   1.455558e-08  4.263450e-09  8.693633e-10  2.819331e-10   \n",
      "Channel 8   1.376630e-08  4.143737e-09  8.553016e-10  2.810650e-10   \n",
      "Channel 9   1.239517e-08  3.775058e-09  8.096397e-10  2.726325e-10   \n",
      "Channel 10  9.131103e-09  2.878737e-09  6.810299e-10  2.377403e-10   \n",
      "Channel 11  6.998429e-09  2.285200e-09  6.043004e-10  2.145141e-10   \n",
      "Channel 12  3.075219e-09  1.261505e-09  3.821750e-10  1.354794e-10   \n",
      "Channel 13  3.119857e-09  1.263087e-09  3.933471e-10  1.407978e-10   \n",
      "Channel 14  3.266331e-09  1.258676e-09  3.812431e-10  1.353671e-10   \n",
      "Channel 15  1.687673e-09  6.504498e-10  2.215522e-10  7.346792e-11   \n",
      "Channel 16  5.594581e-10  2.658545e-10  1.165085e-10  3.142573e-11   \n",
      "Channel 17  1.062236e-09  3.110259e-10  9.652821e-11  3.417322e-11   \n",
      "Channel 18  1.899950e-09  8.080498e-10  2.009645e-10  7.107246e-11   \n",
      "Channel 19  3.154979e-09  1.023866e-09  2.441888e-10  7.430720e-11   \n",
      "Channel 20  1.309472e-09  6.762803e-10  1.661331e-10  5.654659e-11   \n",
      "Channel 21  1.014228e-09  5.359153e-10  1.287414e-10  4.303863e-11   \n",
      "Channel 22  1.072054e-09  4.684272e-10  1.090783e-10  3.576526e-11   \n",
      "Channel 23  9.786769e-10  4.002498e-10  9.297795e-11  2.960523e-11   \n",
      "Channel 24  6.969985e-10  3.449902e-10  7.939223e-11  2.553990e-11   \n",
      "Channel 25  5.918437e-10  3.058015e-10  7.129178e-11  2.269040e-11   \n",
      "Channel 26  7.611659e-10  2.899524e-10  6.532606e-11  2.039165e-11   \n",
      "Channel 27  7.427957e-10  2.361419e-10  5.782318e-11  1.706297e-11   \n",
      "Channel 28  5.378109e-10  2.103825e-10  4.917985e-11  1.534765e-11   \n",
      "Channel 29  3.963316e-10  1.445550e-10  4.003995e-11  1.196577e-11   \n",
      "Channel 30  4.371093e-10  1.518418e-10  3.674901e-11  1.074459e-11   \n",
      "Channel 31  1.292587e-09  2.559367e-10  5.636950e-11  1.139246e-11   \n",
      "Channel 32  3.363789e-10  1.152643e-10  2.989277e-11  8.810480e-12   \n",
      "\n",
      "               slowgamma     fastgamma  \n",
      "Channel 1   8.399445e-11  4.696157e-11  \n",
      "Channel 2   8.749665e-11  5.741366e-11  \n",
      "Channel 3   7.425728e-11  4.632492e-11  \n",
      "Channel 4   8.249941e-11  3.297118e-11  \n",
      "Channel 5   9.085267e-11  1.330068e-11  \n",
      "Channel 6   8.654917e-11  9.462957e-12  \n",
      "Channel 7   7.706112e-11  8.679301e-12  \n",
      "Channel 8   7.560017e-11  8.624662e-12  \n",
      "Channel 9   6.712489e-11  7.466482e-12  \n",
      "Channel 10  5.231694e-11  6.713477e-12  \n",
      "Channel 11  4.563336e-11  6.424978e-12  \n",
      "Channel 12  3.677939e-11  9.494427e-12  \n",
      "Channel 13  3.829809e-11  9.594053e-12  \n",
      "Channel 14  3.687541e-11  9.539744e-12  \n",
      "Channel 15  3.096742e-11  1.637068e-11  \n",
      "Channel 16  1.399653e-11  7.666675e-12  \n",
      "Channel 17  1.354425e-11  3.641330e-12  \n",
      "Channel 18  2.460833e-11  5.598991e-12  \n",
      "Channel 19  2.314797e-11  6.498269e-12  \n",
      "Channel 20  1.723271e-11  3.723064e-12  \n",
      "Channel 21  1.282757e-11  2.854264e-12  \n",
      "Channel 22  1.058439e-11  2.304781e-12  \n",
      "Channel 23  8.646317e-12  2.149344e-12  \n",
      "Channel 24  7.467992e-12  1.655683e-12  \n",
      "Channel 25  6.581690e-12  1.786644e-12  \n",
      "Channel 26  5.904041e-12  1.494193e-12  \n",
      "Channel 27  4.948567e-12  1.844231e-12  \n",
      "Channel 28  4.440950e-12  1.188923e-12  \n",
      "Channel 29  3.492173e-12  1.835830e-12  \n",
      "Channel 30  3.141680e-12  1.119235e-12  \n",
      "Channel 31  2.923707e-12  2.956097e-12  \n",
      "Channel 32  2.618167e-12  9.369681e-13  \n",
      "PSD results saved to /Users/hyojin/Desktop/Dr.Kim/Dataframe/psd_results.csv\n"
     ]
    }
   ],
   "source": [
    "# Create a DataFrame from the results\n",
    "df_psd = pd.DataFrame(all_band_psd)\n",
    "df_psd.index = [f'Channel {i + 1}' for i in range(eeg_data.shape[0])]\n",
    "\n",
    "# Display the DataFrame\n",
    "print(\"\\nPSD DataFrame (in V²/Hz):\")\n",
    "print(df_psd)\n",
    "\n",
    "# Optionally save the DataFrame to a CSV file\n",
    "output_csv_path = '/Users/hyojin/Desktop/Dr.Kim/Dataframe/psd_results.csv'\n",
    "df_psd.to_csv(output_csv_path, index=True)\n",
    "print(f\"PSD results saved to {output_csv_path}\")\n"
   ]
  },
  {
   "cell_type": "markdown",
   "id": "325c0fa1-a233-4303-8a09-1970465bcc8a",
   "metadata": {},
   "source": [
    "## PSD by 2s window with 50% overlap in one channel(in CA1 area)"
   ]
  },
  {
   "cell_type": "markdown",
   "id": "bc07402b-4edd-4dcc-b681-1ed31bac242a",
   "metadata": {
    "jp-MarkdownHeadingCollapsed": true
   },
   "source": [
    "### Select and Process Channel 14"
   ]
  },
  {
   "cell_type": "code",
   "execution_count": 7,
   "id": "0b1ee5e5-9c8f-4af8-8c3d-96b1006059ea",
   "metadata": {},
   "outputs": [],
   "source": [
    "# Select channel 14 (Python is 0-indexed, so index 13)\n",
    "channel_idx = 13\n",
    "channel_data = eeg_data[channel_idx, :]\n",
    "\n",
    "# Calculate PSD for the channel using Welch's method\n",
    "f, psd = welch(\n",
    "    channel_data,\n",
    "    fs,\n",
    "    window=window,\n",
    "    nperseg=window_length,\n",
    "    noverlap=noverlap,\n",
    "    scaling='density',\n",
    "    return_onesided=True,\n",
    ")\n",
    "\n",
    "# Convert PSD to V²/Hz (assuming input data is in μV²/Hz)\n",
    "psd_in_v2 = psd / 1e12  # Convert from μV²/Hz to V²/Hz\n"
   ]
  },
  {
   "cell_type": "markdown",
   "id": "18e3fd2e-31ff-440e-8420-bd46d5e7416c",
   "metadata": {},
   "source": [
    "### Compute PSD for 2-Second Windows"
   ]
  },
  {
   "cell_type": "code",
   "execution_count": 8,
   "id": "3d7456e5-3371-4e8d-8b72-35492f488f4d",
   "metadata": {},
   "outputs": [],
   "source": [
    "# Split the signal into windows and compute PSD for each window\n",
    "n_samples = len(channel_data)\n",
    "step_size = window_length // 2\n",
    "start_indices = np.arange(0, n_samples - window_length + 1, step_size)\n",
    "\n",
    "# Store results in a DataFrame\n",
    "rows = []\n",
    "for start in start_indices:\n",
    "    segment = channel_data[start:start + window_length]\n",
    "    f, psd = welch(\n",
    "        segment,\n",
    "        fs,\n",
    "        window=window,\n",
    "        nperseg=window_length,\n",
    "        noverlap=0,  # No additional overlap for this small segment\n",
    "        scaling='density',\n",
    "        return_onesided=True,\n",
    "    )\n",
    "    psd_in_v2 = psd / 1e12  # Convert from μV²/Hz to V²/Hz\n",
    "\n",
    "    # Calculate mean PSD values for each frequency band\n",
    "    row = {}\n",
    "    for band_name, (f_low, f_high) in bands.items():\n",
    "        band_indices = (f >= f_low) & (f <= f_high)\n",
    "        row[band_name] = np.mean(psd_in_v2[band_indices])  # Mean power in the band\n",
    "    rows.append(row)\n"
   ]
  },
  {
   "cell_type": "markdown",
   "id": "04272011-4f8b-4f24-bd31-0b0a6a2e2036",
   "metadata": {},
   "source": [
    "### Create and Save Results DataFrame"
   ]
  },
  {
   "cell_type": "code",
   "execution_count": 9,
   "id": "461a752a-57b5-4aa3-b5da-7206e30a700d",
   "metadata": {},
   "outputs": [
    {
     "name": "stdout",
     "output_type": "stream",
     "text": [
      "\n",
      "PSD DataFrame for Channel 14 (in V²/Hz):\n",
      "                   delta         theta         alpha          beta  \\\n",
      "0-2s        1.605210e-11  1.825020e-11  7.879450e-12  2.768594e-12   \n",
      "1-3s        1.420186e-11  2.014871e-11  2.771339e-12  7.045722e-12   \n",
      "2-4s        6.840039e-12  1.248694e-11  3.861962e-12  6.393010e-12   \n",
      "3-5s        1.681903e-11  3.516268e-11  9.588216e-12  6.385192e-12   \n",
      "4-6s        8.960209e-12  3.708496e-11  6.885384e-12  3.597341e-12   \n",
      "...                  ...           ...           ...           ...   \n",
      "3601-3603s  2.125099e-09  5.937623e-10  4.833021e-10  1.545539e-10   \n",
      "3602-3604s  1.897520e-09  4.941052e-10  4.563004e-11  1.409748e-11   \n",
      "3603-3605s  2.489903e-09  5.034880e-10  6.528881e-11  1.174057e-11   \n",
      "3604-3606s  2.525036e-09  2.921870e-10  2.836990e-10  3.678167e-11   \n",
      "3605-3607s  3.154934e-09  6.919436e-10  3.378061e-11  5.481980e-12   \n",
      "\n",
      "               slowgamma     fastgamma  \n",
      "0-2s        9.102647e-12  1.915070e-12  \n",
      "1-3s        8.364090e-12  2.029099e-12  \n",
      "2-4s        8.905623e-12  1.694824e-12  \n",
      "3-5s        1.180134e-11  1.655262e-12  \n",
      "4-6s        9.917462e-12  1.854515e-12  \n",
      "...                  ...           ...  \n",
      "3601-3603s  1.549136e-11  3.710931e-12  \n",
      "3602-3604s  4.382304e-12  1.945355e-12  \n",
      "3603-3605s  5.052584e-12  1.973840e-12  \n",
      "3604-3606s  4.435834e-12  2.248100e-12  \n",
      "3605-3607s  6.425761e-12  1.920754e-12  \n",
      "\n",
      "[3606 rows x 6 columns]\n",
      "PSD results saved to /Users/hyojin/Desktop/Dr.Kim/Dataframe/psd_channel_14_results.csv\n"
     ]
    }
   ],
   "source": [
    "# Create a DataFrame for the PSD results\n",
    "df_psd_windows = pd.DataFrame(rows)\n",
    "df_psd_windows.index = [f\"{i}-{i+2}s\" for i in range(len(rows))]\n",
    "\n",
    "# Display the DataFrame\n",
    "print(\"\\nPSD DataFrame for Channel 14 (in V²/Hz):\")\n",
    "print(df_psd_windows)\n",
    "\n",
    "# Optionally save the DataFrame to a CSV file\n",
    "output_csv_path = '/Users/hyojin/Desktop/Dr.Kim/Dataframe/psd_channel_14_results.csv'\n",
    "df_psd_windows.to_csv(output_csv_path, index=True)\n",
    "print(f\"PSD results saved to {output_csv_path}\")\n"
   ]
  },
  {
   "cell_type": "markdown",
   "id": "0afe5654-032d-480b-9561-b789763824eb",
   "metadata": {},
   "source": [
    "## LFP Feature Extraction: Signal Energy and RMS"
   ]
  },
  {
   "cell_type": "code",
   "execution_count": 10,
   "id": "4a33dc86-ca0e-41bf-bd36-1d79236e5265",
   "metadata": {},
   "outputs": [
    {
     "name": "stdout",
     "output_type": "stream",
     "text": [
      "Processing additional features for Channel 1...\n",
      "Processing additional features for Channel 2...\n",
      "Processing additional features for Channel 3...\n",
      "Processing additional features for Channel 4...\n",
      "Processing additional features for Channel 5...\n",
      "Processing additional features for Channel 6...\n",
      "Processing additional features for Channel 7...\n",
      "Processing additional features for Channel 8...\n",
      "Processing additional features for Channel 9...\n",
      "Processing additional features for Channel 10...\n",
      "Processing additional features for Channel 11...\n",
      "Processing additional features for Channel 12...\n",
      "Processing additional features for Channel 13...\n",
      "Processing additional features for Channel 14...\n",
      "Processing additional features for Channel 15...\n",
      "Processing additional features for Channel 16...\n",
      "Processing additional features for Channel 17...\n",
      "Processing additional features for Channel 18...\n",
      "Processing additional features for Channel 19...\n",
      "Processing additional features for Channel 20...\n",
      "Processing additional features for Channel 21...\n",
      "Processing additional features for Channel 22...\n",
      "Processing additional features for Channel 23...\n",
      "Processing additional features for Channel 24...\n",
      "Processing additional features for Channel 25...\n",
      "Processing additional features for Channel 26...\n",
      "Processing additional features for Channel 27...\n",
      "Processing additional features for Channel 28...\n",
      "Processing additional features for Channel 29...\n",
      "Processing additional features for Channel 30...\n",
      "Processing additional features for Channel 31...\n",
      "Processing additional features for Channel 32...\n",
      "\n",
      "Combined LFP Features DataFrame:\n",
      "                   delta         theta         alpha          beta  \\\n",
      "Channel 1   8.053666e-09  3.453589e-09  1.310373e-09  3.864253e-10   \n",
      "Channel 2   8.889110e-09  3.427332e-09  1.253667e-09  3.726808e-10   \n",
      "Channel 3   9.147446e-09  3.401054e-09  1.024884e-09  2.980524e-10   \n",
      "Channel 4   9.244176e-09  3.215013e-09  8.250956e-10  2.850025e-10   \n",
      "Channel 5   1.126136e-08  3.508617e-09  7.841206e-10  3.005138e-10   \n",
      "Channel 6   1.278625e-08  3.744832e-09  7.824130e-10  2.904076e-10   \n",
      "Channel 7   1.455558e-08  4.263450e-09  8.693633e-10  2.819331e-10   \n",
      "Channel 8   1.376630e-08  4.143737e-09  8.553016e-10  2.810650e-10   \n",
      "Channel 9   1.239517e-08  3.775058e-09  8.096397e-10  2.726325e-10   \n",
      "Channel 10  9.131103e-09  2.878737e-09  6.810299e-10  2.377403e-10   \n",
      "Channel 11  6.998429e-09  2.285200e-09  6.043004e-10  2.145141e-10   \n",
      "Channel 12  3.075219e-09  1.261505e-09  3.821750e-10  1.354794e-10   \n",
      "Channel 13  3.119857e-09  1.263087e-09  3.933471e-10  1.407978e-10   \n",
      "Channel 14  3.266331e-09  1.258676e-09  3.812431e-10  1.353671e-10   \n",
      "Channel 15  1.687673e-09  6.504498e-10  2.215522e-10  7.346792e-11   \n",
      "Channel 16  5.594581e-10  2.658545e-10  1.165085e-10  3.142573e-11   \n",
      "Channel 17  1.062236e-09  3.110259e-10  9.652821e-11  3.417322e-11   \n",
      "Channel 18  1.899950e-09  8.080498e-10  2.009645e-10  7.107246e-11   \n",
      "Channel 19  3.154979e-09  1.023866e-09  2.441888e-10  7.430720e-11   \n",
      "Channel 20  1.309472e-09  6.762803e-10  1.661331e-10  5.654659e-11   \n",
      "Channel 21  1.014228e-09  5.359153e-10  1.287414e-10  4.303863e-11   \n",
      "Channel 22  1.072054e-09  4.684272e-10  1.090783e-10  3.576526e-11   \n",
      "Channel 23  9.786769e-10  4.002498e-10  9.297795e-11  2.960523e-11   \n",
      "Channel 24  6.969985e-10  3.449902e-10  7.939223e-11  2.553990e-11   \n",
      "Channel 25  5.918437e-10  3.058015e-10  7.129178e-11  2.269040e-11   \n",
      "Channel 26  7.611659e-10  2.899524e-10  6.532606e-11  2.039165e-11   \n",
      "Channel 27  7.427957e-10  2.361419e-10  5.782318e-11  1.706297e-11   \n",
      "Channel 28  5.378109e-10  2.103825e-10  4.917985e-11  1.534765e-11   \n",
      "Channel 29  3.963316e-10  1.445550e-10  4.003995e-11  1.196577e-11   \n",
      "Channel 30  4.371093e-10  1.518418e-10  3.674901e-11  1.074459e-11   \n",
      "Channel 31  1.292587e-09  2.559367e-10  5.636950e-11  1.139246e-11   \n",
      "Channel 32  3.363789e-10  1.152643e-10  2.989277e-11  8.810480e-12   \n",
      "\n",
      "               slowgamma     fastgamma  signal_energy         rms  \n",
      "Channel 1   8.399445e-11  4.696157e-11   62791.732804  250.582786  \n",
      "Channel 2   8.749665e-11  5.741366e-11   66964.161211  258.774344  \n",
      "Channel 3   7.425728e-11  4.632492e-11   63368.532489  251.731072  \n",
      "Channel 4   8.249941e-11  3.297118e-11   59600.770910  244.132691  \n",
      "Channel 5   9.085267e-11  1.330068e-11   64491.523271  253.951813  \n",
      "Channel 6   8.654917e-11  9.462957e-12   70133.757122  264.827788  \n",
      "Channel 7   7.706112e-11  8.679301e-12   77598.146461  278.564439  \n",
      "Channel 8   7.560017e-11  8.624662e-12   74063.544853  272.146183  \n",
      "Channel 9   6.712489e-11  7.466482e-12   67216.168446  259.260812  \n",
      "Channel 10  5.231694e-11  6.713477e-12   51308.862366  226.514596  \n",
      "Channel 11  4.563336e-11  6.424978e-12   40599.832821  201.494002  \n",
      "Channel 12  3.677939e-11  9.494427e-12   21070.696854  145.157490  \n",
      "Channel 13  3.829809e-11  9.594053e-12   21364.180707  146.164909  \n",
      "Channel 14  3.687541e-11  9.539744e-12   21786.840047  147.603659  \n",
      "Channel 15  3.096742e-11  1.637068e-11   13578.966251  116.528822  \n",
      "Channel 16  1.399653e-11  7.666675e-12    5451.891919   73.836928  \n",
      "Channel 17  1.354425e-11  3.641330e-12    6665.178085   81.640542  \n",
      "Channel 18  2.460833e-11  5.598991e-12   12842.285307  113.323807  \n",
      "Channel 19  2.314797e-11  6.498269e-12   19073.822195  138.108009  \n",
      "Channel 20  1.723271e-11  3.723064e-12    9313.798532   96.508023  \n",
      "Channel 21  1.282757e-11  2.854264e-12    7206.413186   84.890595  \n",
      "Channel 22  1.058439e-11  2.304781e-12    7073.374275   84.103355  \n",
      "Channel 23  8.646317e-12  2.149344e-12    6299.348842   79.368437  \n",
      "Channel 24  7.467992e-12  1.655683e-12    4759.564888   68.989600  \n",
      "Channel 25  6.581690e-12  1.786644e-12    4132.567844   64.285051  \n",
      "Channel 26  5.904041e-12  1.494193e-12    4780.460512   69.140874  \n",
      "Channel 27  4.948567e-12  1.844231e-12    4618.693430   67.960970  \n",
      "Channel 28  4.440950e-12  1.188923e-12    3389.465260   58.219114  \n",
      "Channel 29  3.492173e-12  1.835830e-12    2690.728911   51.872236  \n",
      "Channel 30  3.141680e-12  1.119235e-12    2740.361816   52.348465  \n",
      "Channel 31  2.923707e-12  2.956097e-12    6909.462404   83.123176  \n",
      "Channel 32  2.618167e-12  9.369681e-13    2131.085611   46.163683  \n",
      "Combined LFP features saved to /Users/hyojin/Desktop/Dr.Kim/Dataframe/combined_lfp_features.csv\n"
     ]
    }
   ],
   "source": [
    "# Compute additional features: Signal Energy and RMS\n",
    "lfp_features = []\n",
    "\n",
    "# Function to compute RMS\n",
    "def compute_rms(signal):\n",
    "    return np.sqrt(np.mean(signal**2))\n",
    "\n",
    "# Process each channel to compute additional features\n",
    "for channel_idx, channel_data in enumerate(eeg_data):\n",
    "    print(f\"Processing additional features for Channel {channel_idx + 1}...\")\n",
    "\n",
    "    # Compute signal energy\n",
    "    signal_energy = np.sum(channel_data**2) / len(channel_data)\n",
    "\n",
    "    # Compute RMS\n",
    "    rms_value = compute_rms(channel_data)\n",
    "\n",
    "    # Append features to the list\n",
    "    lfp_features.append({\n",
    "        'channel': f'Channel {channel_idx + 1}',\n",
    "        'signal_energy': signal_energy,\n",
    "        'rms': rms_value\n",
    "    })\n",
    "\n",
    "# Convert additional features to a DataFrame\n",
    "df_additional_features = pd.DataFrame(lfp_features)\n",
    "df_additional_features.set_index('channel', inplace=True)\n",
    "\n",
    "# Combine with existing PSD DataFrame\n",
    "df_combined_features = pd.concat([df_psd, df_additional_features], axis=1)\n",
    "\n",
    "# Display combined features DataFrame\n",
    "print(\"\\nCombined LFP Features DataFrame:\")\n",
    "print(df_combined_features)\n",
    "\n",
    "# Optionally save combined features to a CSV\n",
    "output_csv_path_combined = '/Users/hyojin/Desktop/Dr.Kim/Dataframe/combined_lfp_features.csv'\n",
    "df_combined_features.to_csv(output_csv_path_combined, index=True)\n",
    "print(f\"Combined LFP features saved to {output_csv_path_combined}\")\n"
   ]
  },
  {
   "cell_type": "markdown",
   "id": "1f6b28dd-18da-4bd0-981e-6795d10923cc",
   "metadata": {},
   "source": [
    "## Label Seizure Windows"
   ]
  },
  {
   "cell_type": "code",
   "execution_count": 12,
   "id": "7d3fc7a4-a3da-4700-87ee-eedad7b267fe",
   "metadata": {},
   "outputs": [
    {
     "name": "stdout",
     "output_type": "stream",
     "text": [
      "Labeled PSD results saved to /Users/hyojin/Desktop/Dr.Kim/Dataframe/psd_channel_labeled.csv\n",
      "\n",
      "Labeled PSD DataFrame:\n",
      "             delta         theta         alpha          beta     slowgamma  \\\n",
      "0-2s  1.605210e-11  1.825020e-11  7.879450e-12  2.768594e-12  9.102647e-12   \n",
      "1-3s  1.420186e-11  2.014871e-11  2.771339e-12  7.045722e-12  8.364090e-12   \n",
      "2-4s  6.840039e-12  1.248694e-11  3.861962e-12  6.393010e-12  8.905623e-12   \n",
      "3-5s  1.681903e-11  3.516268e-11  9.588216e-12  6.385192e-12  1.180134e-11   \n",
      "4-6s  8.960209e-12  3.708496e-11  6.885384e-12  3.597341e-12  9.917462e-12   \n",
      "\n",
      "         fastgamma  label  \n",
      "0-2s  1.915070e-12      0  \n",
      "1-3s  2.029099e-12      0  \n",
      "2-4s  1.694824e-12      0  \n",
      "3-5s  1.655262e-12      0  \n",
      "4-6s  1.854515e-12      0  \n"
     ]
    }
   ],
   "source": [
    "# Define new seizure intervals in seconds\n",
    "seizure_intervals = [\n",
    "    (52 * 60 + 12, 52 * 60 + 15),  # 52:12 - 52:15\n",
    "    (52 * 60 + 26, 52 * 60 + 29),  # 52:26 - 52:29\n",
    "    (52 * 60 + 54, 52 * 60 + 56),  # 52:54 - 52:56\n",
    "    (54 * 60 + 32, 54 * 60 + 34),  # 54:32 - 54:34\n",
    "    (58 * 60 + 16, 58 * 60 + 21)   # 58:16 - 58:21\n",
    "]\n",
    "\n",
    "# Convert intervals to sample indices\n",
    "seizure_intervals_samples = [\n",
    "    (int(start * fs), int(end * fs)) for start, end in seizure_intervals\n",
    "]\n",
    "\n",
    "def label_window(start_sample, end_sample, intervals):\n",
    "    \"\"\"\n",
    "    Determine if a given window overlaps with any seizure interval.\n",
    "\n",
    "    Parameters:\n",
    "    - start_sample: Start index of the window\n",
    "    - end_sample: End index of the window\n",
    "    - intervals: List of (start, end) intervals in samples\n",
    "\n",
    "    Returns:\n",
    "    - 1 if the window overlaps with any seizure interval, otherwise 0\n",
    "    \"\"\"\n",
    "    for interval_start, interval_end in intervals:\n",
    "        if start_sample < interval_end and end_sample > interval_start:\n",
    "            return 1  # Seizure\n",
    "    return 0  # Non-seizure\n",
    "\n",
    "# Label each window in your data\n",
    "window_labels = []  # To store labels for each window\n",
    "for start_idx in start_indices:  \n",
    "    end_idx = start_idx + window_length  # End index of the current window\n",
    "    label = label_window(start_idx, end_idx, seizure_intervals_samples)\n",
    "    window_labels.append(label)\n",
    "\n",
    "# Add labels to the PSD DataFrame\n",
    "df_psd_windows['label'] = window_labels\n",
    "\n",
    "# Save the labeled DataFrame\n",
    "output_csv_path_labeled = '/Users/hyojin/Desktop/Dr.Kim/Dataframe/psd_channel_labeled.csv'\n",
    "df_psd_windows.to_csv(output_csv_path_labeled, index=True)\n",
    "print(f\"Labeled PSD results saved to {output_csv_path_labeled}\")\n",
    "\n",
    "# Display a preview of the labeled DataFrame\n",
    "print(\"\\nLabeled PSD DataFrame:\")\n",
    "print(df_psd_windows.head())"
   ]
  },
  {
   "cell_type": "code",
   "execution_count": null,
   "id": "6423401d-c46e-4750-a822-fe783019ab51",
   "metadata": {},
   "outputs": [],
   "source": []
  }
 ],
 "metadata": {
  "kernelspec": {
   "display_name": "Python 3 (ipykernel)",
   "language": "python",
   "name": "python3"
  },
  "language_info": {
   "codemirror_mode": {
    "name": "ipython",
    "version": 3
   },
   "file_extension": ".py",
   "mimetype": "text/x-python",
   "name": "python",
   "nbconvert_exporter": "python",
   "pygments_lexer": "ipython3",
   "version": "3.13.1"
  }
 },
 "nbformat": 4,
 "nbformat_minor": 5
}
